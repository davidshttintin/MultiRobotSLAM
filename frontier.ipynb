{
 "cells": [
  {
   "cell_type": "code",
   "execution_count": 1,
   "metadata": {},
   "outputs": [],
   "source": [
    "import sys\n",
    "import skimage.io as skio\n",
    "import skimage as sk\n",
    "import skimage.transform as transform\n",
    "from skimage.measure import find_contours\n",
    "import numpy as np\n",
    "ros_path = '/opt/ros/kinetic/lib/python2.7/dist-packages'\n",
    "if ros_path in sys.path:\n",
    "    sys.path.remove(ros_path)\n",
    "import cv2\n",
    "sys.path.append('/opt/ros/kinetic/lib/python2.7/dist-packages')\n",
    "import matplotlib.pyplot as plt"
   ]
  },
  {
   "cell_type": "code",
   "execution_count": 2,
   "metadata": {},
   "outputs": [
    {
     "data": {
      "text/plain": [
       "<Figure size 1080x1080 with 0 Axes>"
      ]
     },
     "metadata": {},
     "output_type": "display_data"
    }
   ],
   "source": [
    "a = skio.imread(\"run1.jpg\")\n",
    "a = a[::-1]\n",
    "size = a.shape\n",
    "plt.figure(figsize = (15,15))\n",
    "a = sk.measure.block_reduce(a, (2,2), np.min)\n",
    "a = transform.resize(a, size, preserve_range=True)\n",
    "# skio.imshow(a)"
   ]
  },
  {
   "cell_type": "code",
   "execution_count": 3,
   "metadata": {},
   "outputs": [
    {
     "data": {
      "text/plain": [
       "<Figure size 1080x1080 with 0 Axes>"
      ]
     },
     "execution_count": 3,
     "metadata": {},
     "output_type": "execute_result"
    },
    {
     "data": {
      "text/plain": [
       "<Figure size 1080x1080 with 0 Axes>"
      ]
     },
     "metadata": {},
     "output_type": "display_data"
    }
   ],
   "source": [
    "def obstacle_map(gridmap):\n",
    "    copy = np.copy(gridmap)\n",
    "    copy[copy == 127] = 255\n",
    "    return copy < 105\n",
    "\n",
    "def obstacle_indeices(obstacle_map):\n",
    "    return np.nonzero(obstacle_map)\n",
    "\n",
    "def show_obstacle(gridmap):\n",
    "    black = np.zeros(gridmap.shape)\n",
    "    black[obstacle_map(gridmap)] = 255\n",
    "    return black\n",
    "plt.figure(figsize = (15,15))\n",
    "# skio.imshow(obstacle_map(a))"
   ]
  },
  {
   "cell_type": "code",
   "execution_count": 4,
   "metadata": {},
   "outputs": [],
   "source": [
    "# np.unique(a.reshape((40000, 1)))"
   ]
  },
  {
   "cell_type": "code",
   "execution_count": 5,
   "metadata": {},
   "outputs": [
    {
     "data": {
      "text/plain": [
       "<Figure size 1080x1080 with 0 Axes>"
      ]
     },
     "execution_count": 5,
     "metadata": {},
     "output_type": "execute_result"
    },
    {
     "data": {
      "text/plain": [
       "<Figure size 1080x1080 with 0 Axes>"
      ]
     },
     "metadata": {},
     "output_type": "display_data"
    }
   ],
   "source": [
    "def grow_obstacle(gridmap):\n",
    "    ob_map = obstacle_map(gridmap)\n",
    "    copy = np.copy(gridmap)\n",
    "    mask = np.copy(ob_map)\n",
    "    step = 5\n",
    "    for dx in range(-step, step+1):\n",
    "        for dy in range(-step, step+1):\n",
    "            roll = np.roll(np.roll(ob_map, dx, axis = 0), dy, axis = 1)\n",
    "            mask = np.logical_or(roll, mask)\n",
    "    copy[mask] = 0\n",
    "            \n",
    "    return copy\n",
    "plt.figure(figsize=(15,15))\n",
    "# skio.imshow(grow_obstacle(a))"
   ]
  },
  {
   "cell_type": "code",
   "execution_count": 6,
   "metadata": {
    "scrolled": false
   },
   "outputs": [
    {
     "data": {
      "text/plain": [
       "<Figure size 1080x1080 with 0 Axes>"
      ]
     },
     "execution_count": 6,
     "metadata": {},
     "output_type": "execute_result"
    },
    {
     "data": {
      "text/plain": [
       "<Figure size 1080x1080 with 0 Axes>"
      ]
     },
     "metadata": {},
     "output_type": "display_data"
    }
   ],
   "source": [
    "def frontier(gridmap):\n",
    "    growed = grow_obstacle(gridmap)\n",
    "    gray = growed == 127\n",
    "    black = growed ==0\n",
    "    white = np.logical_not(np.logical_or(gray, black))\n",
    "    level_map = white*255+gray*127\n",
    "    canny = cv2.Canny(level_map.astype(np.uint8), 1, 1)\n",
    "    \n",
    "    xs, ys = np.nonzero(canny)\n",
    "    trued = np.copy(canny)\n",
    "    for i in range(len(xs)):\n",
    "        x, y = xs[i], ys[i]\n",
    "        if x > 0 and x< gridmap.shape[0]:\n",
    "            if y > 0 and y< gridmap.shape[1]:\n",
    "                blackarea = black[x-4:x+5,y-4:y+5]\n",
    "                blackave = np.mean(blackarea)\n",
    "                \n",
    "                whitearea = white[x-2:x+3,y-2:y+3]\n",
    "                whiteave = np.mean(whitearea)\n",
    "                if not blackave <0.1:\n",
    "                    trued[x][y] = 0\n",
    "                if not whiteave > 0.3:\n",
    "                    trued[x][y] = 0\n",
    "                \n",
    "    return trued\n",
    "plt.figure(figsize=(15, 15))\n",
    "# skio.imshow(frontier(a))"
   ]
  },
  {
   "cell_type": "code",
   "execution_count": 7,
   "metadata": {
    "scrolled": false
   },
   "outputs": [
    {
     "name": "stdout",
     "output_type": "stream",
     "text": [
      "[20, 21, 22, 23, 24, 30, 160, 163, 370, 427, 428, 429, 430, 431, 541, 584, 586, 594]\n"
     ]
    }
   ],
   "source": [
    "import scipy.cluster.hierarchy as hcluster\n",
    "fro = frontier(a)\n",
    "cordinates = np.array(np.nonzero(fro))\n",
    "\n",
    "cordinates = np.transpose(cordinates)\n",
    "clusters = hcluster.fclusterdata(cordinates, 10, criterion=\"distance\")\n",
    "\n",
    "group_id, group_count = np.unique(clusters, return_counts=True)\n",
    "for i in group_id:\n",
    "    if group_count[i - 1] < 5:\n",
    "        clusters[clusters == i] = -5\n",
    "\n",
    "filter_lst = []\n",
    "for i in range(len(clusters)):\n",
    "    if clusters[i] == -5:\n",
    "        filter_lst.append(i)\n",
    "\n",
    "clusters = np.delete(clusters, filter_lst)\n",
    "cordinates = np.delete(cordinates, filter_lst, axis=0)\n",
    "cx, cy = np.transpose(cordinates)\n",
    "print(filter_lst)\n",
    "\n",
    "# plt.figure(figsize=(12, 12))\n",
    "# plt.scatter(*np.transpose(cordinates), c=clusters)\n",
    "# plt.legend()"
   ]
  },
  {
   "cell_type": "code",
   "execution_count": 8,
   "metadata": {},
   "outputs": [
    {
     "name": "stdout",
     "output_type": "stream",
     "text": [
      "25\n",
      "False\n",
      "664.0\n"
     ]
    }
   ],
   "source": [
    "ccopy = np.copy(clusters)\n",
    "ccopy[ccopy != 2] = 0\n",
    "ones = np.nonzero(ccopy)\n",
    "print(ones[0].size)\n",
    "print(np.mean(cx[ones]) == np.nan)\n",
    "print(np.mean(cy[ones]))\n",
    "# plt.scatter(*np.transpose(cordinates), c=ccopy)"
   ]
  },
  {
   "cell_type": "code",
   "execution_count": 9,
   "metadata": {},
   "outputs": [],
   "source": [
    "sys.path.append('/home/daly/vrep_ws/slam-master-jason')\n",
    "from lib.frontier import *"
   ]
  },
  {
   "cell_type": "code",
   "execution_count": 10,
   "metadata": {
    "scrolled": false
   },
   "outputs": [
    {
     "data": {
      "text/plain": [
       "<Figure size 1080x1080 with 0 Axes>"
      ]
     },
     "metadata": {},
     "output_type": "display_data"
    }
   ],
   "source": [
    "b = skio.imread(\"run1.jpg\")\n",
    "b = b[::-1]\n",
    "#testx, testy, cl = frontier_cluster(b)\n",
    "plt.figure(figsize=(15, 15))\n",
    "#b = sk.measure.block_reduce(a, (2,2), np.min)\n",
    "#b = transform.resize(a, size, preserve_range=True)\n",
    "b = preprocess_grid(b)\n",
    "# skio.imshow(frontier(b))"
   ]
  },
  {
   "cell_type": "code",
   "execution_count": 11,
   "metadata": {},
   "outputs": [
    {
     "name": "stdout",
     "output_type": "stream",
     "text": [
      "[[ 10  20  30   0 100]\n",
      " [  0  10  40  50  10]\n",
      " [  0  20  50   0 100]\n",
      " [ 10  50  60  70  80]]\n",
      "[(0, 2), (1, 2), (1, 4), (3, 4)]\n"
     ]
    }
   ],
   "source": [
    "from lib.pathplanner import lee_planning_path"
   ]
  },
  {
   "cell_type": "code",
   "execution_count": 184,
   "metadata": {
    "scrolled": false
   },
   "outputs": [
    {
     "name": "stdout",
     "output_type": "stream",
     "text": [
      "[[0. 0. 0. ... 0. 0. 0.]\n",
      " [0. 0. 0. ... 0. 0. 0.]\n",
      " [0. 0. 0. ... 0. 0. 0.]\n",
      " ...\n",
      " [0. 0. 0. ... 0. 0. 0.]\n",
      " [0. 0. 0. ... 0. 0. 0.]\n",
      " [0. 0. 0. ... 0. 0. 0.]]\n",
      "(array([1]),)\n",
      "[(606, 750), (606, 450), (650, 450)]\n",
      "3.774489164352417\n"
     ]
    },
    {
     "data": {
      "text/plain": [
       "<matplotlib.image.AxesImage at 0x7fb5241fa850>"
      ]
     },
     "execution_count": 184,
     "metadata": {},
     "output_type": "execute_result"
    },
    {
     "data": {
      "image/png": "[encoded data removed]",
      "text/plain": [
       "<Figure size 1080x1080 with 2 Axes>"
      ]
     },
     "metadata": {
      "needs_background": "light"
     },
     "output_type": "display_data"
    }
   ],
   "source": [
    "def color_wp(grid, wp, c):\n",
    "    for i in range(wp[0]-15, wp[0]+15):\n",
    "        grid[i][wp[1]] = c\n",
    "    for i in range(wp[1]-15, wp[1]+15):\n",
    "        grid[wp[0]][i] = c\n",
    "    return grid\n",
    "\n",
    "a = skio.imread(\"run1.jpg\")\n",
    "a = a[::-1]\n",
    "b = a.copy()\n",
    "size = b.shape\n",
    "b = sk.measure.block_reduce(a, (2,2), np.min)\n",
    "b = transform.resize(b, size, preserve_range=True)\n",
    "obst_b = grow_obstacle(b)\n",
    "double_obst_b = grow_obstacle(obst_b)\n",
    "import time\n",
    "tstart = time.time()\n",
    "wps = lee(double_obst_b, (650, 450), (400, 750))\n",
    "print(wps)\n",
    "tend = time.time()\n",
    "print(tend - tstart)\n",
    "obst_b = color_wp(obst_b, (650, 450), 0.6)\n",
    "obst_b = color_wp(obst_b, (400, 750), 0.8)\n",
    "for wp in wps:\n",
    "    obst_b = color_wp(obst_b, wp, 0.8)\n",
    "plt.figure(figsize=(15, 15))\n",
    "skio.imshow(obst_b)"
   ]
  },
  {
   "cell_type": "code",
   "execution_count": 161,
   "metadata": {},
   "outputs": [],
   "source": [
    "# a = np.array([[10, 20, 30, 0, 100],\n",
    "#               [0, 10, 40, 50, 10],\n",
    "#               [0, 20, 50, 0, 100],\n",
    "#               [10, 50, 60, 70, 80]])\n",
    "# status = np.zeros((len(a), len(a[0])))\n",
    "# can_visit = np.ones((len(a), len(a[0])))\n",
    "# start, end = (0, 0), (3, 4)"
   ]
  },
  {
   "cell_type": "code",
   "execution_count": 183,
   "metadata": {},
   "outputs": [],
   "source": [
    "def lee(grid, start, end):\n",
    "    status = np.zeros((len(a), len(grid[0])))\n",
    "    can_visit = np.ones((len(a), len(grid[0])))\n",
    "    visited = np.zeros((len(a), len(grid[0])))\n",
    "\n",
    "    reached = False\n",
    "    status[grid < 10] = -1 #set obstacles to -1\n",
    "    can_visit[grid < 10] = 0\n",
    "    status[start] = 1\n",
    "    can_visit[start] = 0\n",
    "    current_step = 1\n",
    "    visited[start] = 1\n",
    "    while not reached:\n",
    "        current_step_map = status == current_step\n",
    "        rollup = np.roll(current_step_map, -1, axis = 0)\n",
    "        rollup[-1] = False\n",
    "        rollup = np.logical_and(rollup, can_visit)\n",
    "\n",
    "        rolldown = np.roll(current_step_map, 1, axis = 0)\n",
    "        rolldown[0] = False\n",
    "        rolldown = np.logical_and(rolldown, can_visit)\n",
    "\n",
    "        rollright = np.roll(current_step_map, 1, axis = 1)\n",
    "        rollright[:, 0] = False\n",
    "        rollright = np.logical_and(rollright, can_visit)\n",
    "\n",
    "        rollleft = np.roll(current_step_map, -1, axis = 1)\n",
    "        rollleft[:, -1] = False\n",
    "        rollleft = np.logical_and(rollleft, can_visit)\n",
    "\n",
    "        this_step = np.logical_or(np.logical_or(rollup, rolldown), np.logical_or(rollright, rollleft))\n",
    "        assert(not np.sum(np.logical_and(this_step, np.logical_not(can_visit))))\n",
    "\n",
    "        can_visit = np.logical_and(np.logical_not(this_step), can_visit)\n",
    "        visited = np.logical_or(this_step, visited)\n",
    "\n",
    "        status[this_step] = current_step+1\n",
    "        current_step+=1\n",
    "\n",
    "        coordinates = np.transpose(np.nonzero(this_step))\n",
    "        reached = list(end) in coordinates.tolist()\n",
    "        \n",
    "        \n",
    "    if status[end[0]][end[1]] == 0 and start != end:\n",
    "        print(\"not accessible\")\n",
    "        return [] #end is not accessible\n",
    "    \n",
    "    \n",
    "    print(status)\n",
    "    paths = []\n",
    "    paths.append([end])\n",
    "    backtostart = False\n",
    "    while not backtostart:\n",
    "        new_paths = []\n",
    "        while paths:\n",
    "            path = paths.pop()\n",
    "            i, j = path[-1]\n",
    "            if status[i][j] == 1:\n",
    "                backtostart = True\n",
    "                paths.append(path)\n",
    "                break\n",
    "            if len(path) == 1:\n",
    "                i, j = path[-1]\n",
    "                currentstatus = status[i][j]\n",
    "                left = (i-1) >= 0 and status[i-1][j] != -1 and visited[i-1][j] == 1\n",
    "                right = (i+1) < len(grid) and status[i+1][j] != -1 and visited[i+1][j] == 1\n",
    "                top  = (j-1) >= 0 and status[i][j-1] != -1 and visited[i][j-1] == 1\n",
    "                bottom = (j+1) < len(grid[0]) and status[i][j+1] != -1 and visited[i][j+1] == 1\n",
    "                if left:\n",
    "                    if status[i-1][j] < currentstatus:\n",
    "                        copy = path[:]\n",
    "                        copy.append((i-1, j))\n",
    "                        new_paths.append(copy)\n",
    "                if right:\n",
    "                    if status[i+1][j] < currentstatus:\n",
    "                        copy = path[:]\n",
    "                        copy.append((i+1, j))\n",
    "                        new_paths.append(copy)\n",
    "                if top:\n",
    "                    if status[i][j-1] < currentstatus:\n",
    "                        copy = path[:]\n",
    "                        copy.append((i, j-1))\n",
    "                        new_paths.append(copy)\n",
    "                if bottom:\n",
    "                    if status[i][j+1] < currentstatus:\n",
    "                        copy = path[:]\n",
    "                        copy.append((i, j+1))\n",
    "                        new_paths.append(copy)\n",
    "            else:\n",
    "                currentstatus = status[i][j]\n",
    "                this_i, this_j = path[-1]\n",
    "                last_i, last_j = path[-2]\n",
    "                continue_i = this_i + (this_i - last_i)\n",
    "                continue_j = this_j + (this_j - last_j)\n",
    "#                 print(path)\n",
    "#                 print(continue_i, continue_j, status[continue_i][continue_j], currentstatus)\n",
    "#                 print(continue_i>=0 and continue_i<len(grid) and continue_j>=0 and continue_j<len(grid[0]) and status[continue_i][continue_j] < currentstatus and visited[continue_i][continue_j])\n",
    "                if continue_i>=0 and continue_i<len(grid) and continue_j>=0 and continue_j<len(grid[0]) and status[continue_i][continue_j] < currentstatus and visited[continue_i][continue_j]:\n",
    "                    copy = path[:]\n",
    "                    copy.append((continue_i, continue_j))\n",
    "                    new_paths.append(copy)\n",
    "                else:\n",
    "                    left = (i-1) >= 0 and status[i-1][j] != -1 and visited[i-1][j] == 1\n",
    "                    right = (i+1) < len(grid) and status[i+1][j] != -1 and visited[i+1][j] == 1\n",
    "                    top  = (j-1) >= 0 and status[i][j-1] != -1 and visited[i][j-1] == 1\n",
    "                    bottom = (j+1) < len(grid[0]) and status[i][j+1] != -1 and visited[i][j+1] == 1\n",
    "                    if left:\n",
    "                        if status[i-1][j] < currentstatus:\n",
    "                            copy = path[:]\n",
    "                            copy.append((i-1, j))\n",
    "                            new_paths.append(copy)\n",
    "                    if right:\n",
    "                        if status[i+1][j] < currentstatus:\n",
    "                            copy = path[:]\n",
    "                            copy.append((i+1, j))\n",
    "                            new_paths.append(copy)\n",
    "                    if top:\n",
    "                        if status[i][j-1] < currentstatus:\n",
    "                            copy = path[:]\n",
    "                            copy.append((i, j-1))\n",
    "                            new_paths.append(copy)\n",
    "                    if bottom:\n",
    "                        if status[i][j+1] < currentstatus:\n",
    "                            copy = path[:]\n",
    "                            copy.append((i, j+1))\n",
    "                            new_paths.append(copy)\n",
    "#         backtostart = counter == 7\n",
    "#         paths = new_paths\n",
    "        if not backtostart:\n",
    "            paths = new_paths\n",
    "        \n",
    "        \n",
    "        \n",
    "                    \n",
    "    waypoints = [find_waypoints(p) for p in paths]\n",
    "    pointsnums = np.array([len(p) for p in waypoints])\n",
    "    minpointsnum = np.min(pointsnums)\n",
    "    minindex = np.nonzero(pointsnums == minpointsnum)\n",
    "#     print(paths[0][\"limitcell\"])\n",
    "    print(minindex)\n",
    "    return waypoints[minindex[0][0]]\n",
    "        \n",
    "def find_waypoints(path):\n",
    "    waypoints = []\n",
    "    for idx, pt in enumerate(path):\n",
    "        if idx == 0:\n",
    "            continue\n",
    "        if idx == len(path) - 1:\n",
    "            waypoints.append(pt)\n",
    "            break\n",
    "        diff = np.array(path[idx + 1]) - np.array(path[idx - 1])\n",
    "        if (np.abs(diff) == np.array([1, 1])).all():\n",
    "            waypoints.append(pt)\n",
    "    return waypoints"
   ]
  },
  {
   "cell_type": "code",
   "execution_count": 154,
   "metadata": {},
   "outputs": [
    {
     "name": "stdout",
     "output_type": "stream",
     "text": [
      "[[ 1.  2.  3. -1.  7.]\n",
      " [-1.  3.  4.  5.  6.]\n",
      " [-1.  4.  5. -1.  7.]\n",
      " [ 6.  5.  6.  7.  8.]]\n"
     ]
    },
    {
     "data": {
      "text/plain": [
       "[[(3, 4), (2, 4), (1, 4), (1, 3), (1, 2), (1, 1), (0, 1), (0, 0)],\n",
       " [(3, 4), (3, 3), (3, 2), (3, 1), (2, 1), (1, 1), (0, 1), (0, 0)]]"
      ]
     },
     "execution_count": 154,
     "metadata": {},
     "output_type": "execute_result"
    }
   ],
   "source": [
    "lee(a, (0, 0), (3, 4))"
   ]
  },
  {
   "cell_type": "code",
   "execution_count": 94,
   "metadata": {},
   "outputs": [],
   "source": [
    "a = []\n",
    "a.append([3, 4])"
   ]
  },
  {
   "cell_type": "code",
   "execution_count": 95,
   "metadata": {},
   "outputs": [
    {
     "data": {
      "text/plain": [
       "[[3, 4]]"
      ]
     },
     "execution_count": 95,
     "metadata": {},
     "output_type": "execute_result"
    }
   ],
   "source": [
    "a"
   ]
  },
  {
   "cell_type": "code",
   "execution_count": null,
   "metadata": {},
   "outputs": [],
   "source": [
    "coordinates"
   ]
  },
  {
   "cell_type": "code",
   "execution_count": null,
   "metadata": {},
   "outputs": [],
   "source": []
  }
 ],
 "metadata": {
  "kernelspec": {
   "display_name": "Python 3",
   "language": "python",
   "name": "python3"
  },
  "language_info": {
   "codemirror_mode": {
    "name": "ipython",
    "version": 3
   },
   "file_extension": ".py",
   "mimetype": "text/x-python",
   "name": "python",
   "nbconvert_exporter": "python",
   "pygments_lexer": "ipython3",
   "version": "3.8.3"
  }
 },
 "nbformat": 4,
 "nbformat_minor": 4
}
